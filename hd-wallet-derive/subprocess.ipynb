{
 "cells": [
  {
   "cell_type": "code",
   "execution_count": 1,
   "metadata": {},
   "outputs": [],
   "source": [
    "import subprocess\n",
    "import json\n",
    "import os\n",
    "import bit\n",
    "\n",
    "from constants import *\n",
    "\n",
    "from bit import wif_to_key\n",
    "from web3 import Web3\n",
    "from eth_account import Account\n",
    "from web3.middleware import geth_poa_middleware"
   ]
  },
  {
   "cell_type": "code",
   "execution_count": 2,
   "metadata": {},
   "outputs": [],
   "source": [
    "w3 = Web3(Web3.HTTPProvider(\"http://127.0.0.1:8545\"))\n",
    "w3.middleware_onion.inject(geth_poa_middleware, layer=0)"
   ]
  },
  {
   "cell_type": "code",
   "execution_count": 3,
   "metadata": {},
   "outputs": [
    {
     "data": {
      "text/plain": [
       "'meadow wreck estate tell huge letter sure unable one hurdle six gaze'"
      ]
     },
     "execution_count": 3,
     "metadata": {},
     "output_type": "execute_result"
    }
   ],
   "source": [
    "mnemonic = os.getenv('MNEMONIC', 'meadow wreck estate tell huge letter sure unable one hurdle six gaze')\n",
    "mnemonic"
   ]
  },
  {
   "cell_type": "code",
   "execution_count": 4,
   "metadata": {},
   "outputs": [],
   "source": [
    "def derive_wallets(password, coin):\n",
    "    \n",
    "    command = f'php hd-wallet-derive.php -g --mnemonic=\"{password}\" --cols=path,address,privkey,pubkey --coin={coin} --numderive=3 --format=json'\n",
    "    p = subprocess.Popen(command, stdout=subprocess.PIPE, shell=True)\n",
    "    output,err = p.communicate()\n",
    "    p_status = p.wait()\n",
    "    keys = json.loads(output)\n",
    "    \n",
    "    return keys"
   ]
  },
  {
   "cell_type": "code",
   "execution_count": 5,
   "metadata": {},
   "outputs": [],
   "source": [
    "coins = {}\n",
    "coins[\"eth\"] = derive_wallets(mnemonic, ETH)\n",
    "coins[\"btc-test\"] = derive_wallets(mnemonic, BTCTEST)"
   ]
  },
  {
   "cell_type": "code",
   "execution_count": 6,
   "metadata": {},
   "outputs": [
    {
     "data": {
      "text/plain": [
       "{'eth': [{'path': \"m/44'/60'/0'/0/0\",\n",
       "   'address': '0x450855436748256107d1F8e3F772c15cD8A3B2C9',\n",
       "   'privkey': '0x4f663489c0da39ddf6a9c9d0a6e12439597b6b73d44a287a4191f32c0af14522',\n",
       "   'pubkey': '0259bf190395eb0a807be4c0b8a75b743ec7ac7d669b33ee2a5c06e354e5e7085e'},\n",
       "  {'path': \"m/44'/60'/0'/0/1\",\n",
       "   'address': '0x0F90890C0185Eb90Ed87445224bEE237fd463EA0',\n",
       "   'privkey': '0x7d2892aa4c9afd2bd462d836c2a3ecef749aa9ecdeaca467d39435300b87cfab',\n",
       "   'pubkey': '029c0f2167349b2bb303d257ccf4e5866c89cd58f872615c845c757998278da81c'},\n",
       "  {'path': \"m/44'/60'/0'/0/2\",\n",
       "   'address': '0x573116f3a857707625Fe225c09AF9EaB1d1F1944',\n",
       "   'privkey': '0x04d58976ef3d27ff991e2bc8759527b5299a08e19490a1a43a8597f214b62826',\n",
       "   'pubkey': '03f610f63d257e169f16b9c6f68f406e01046c041759da85cfd2c98d1818918ba8'}],\n",
       " 'btc-test': [{'path': \"m/44'/1'/0'/0/0\",\n",
       "   'address': 'mqUWACnKFiA9WSxmwwxMLfWnDbwbvcMz6b',\n",
       "   'privkey': 'cUmJ3ikWXUMQCYPRsmaCiia5ZxsxJK42X5UN6aQF5BiWjBb2SvRZ',\n",
       "   'pubkey': '03f52019f42542dc4e31407fd67d09587452fbac3f35415c136ec3bd5d22d6b6ce'},\n",
       "  {'path': \"m/44'/1'/0'/0/1\",\n",
       "   'address': 'n3XxDtaS2ok8H4xxAMNoRHTHa94M4WEW9v',\n",
       "   'privkey': 'cPzSX4HAB8w3ekdMNziuhoFxboQaqidgpk1ybCEcmNKFxSduwf6V',\n",
       "   'pubkey': '030d46a1a592cdbced0d768f570dcf5f5279b08480333646a4c2877e7a950e648a'},\n",
       "  {'path': \"m/44'/1'/0'/0/2\",\n",
       "   'address': 'mnR84jLMkTvZ8CSahkZWjuxYWDvPaGovpF',\n",
       "   'privkey': 'cP7m47W1y8AJB4vQkWcUFVffB2sPUQofXFQr3SmXiELC4SWwrCqT',\n",
       "   'pubkey': '03b34f4d06fbc7ab331d1a332ac21fd6eb1cc04ff2275926ee92ed0a9a053d4a8e'}]}"
      ]
     },
     "execution_count": 6,
     "metadata": {},
     "output_type": "execute_result"
    }
   ],
   "source": [
    "coins"
   ]
  },
  {
   "cell_type": "code",
   "execution_count": 11,
   "metadata": {},
   "outputs": [],
   "source": [
    "def priv_key_to_account(coin, priv_key):\n",
    "    \n",
    "    if coin == 'eth':\n",
    "    \n",
    "        return Account.from_key(priv_key)\n",
    "\n",
    "    elif coin == \"btc-test\":\n",
    "        \n",
    "        return bit.PrivateKeyTestnet(priv_key)"
   ]
  },
  {
   "cell_type": "code",
   "execution_count": 14,
   "metadata": {},
   "outputs": [],
   "source": [
    "eth_account = priv_key_to_account(ETH, '0x4c1deef92770ffb7850e34d5c2809dec86704773f3c1d4c33e6e103922a8a2bf')"
   ]
  },
  {
   "cell_type": "code",
   "execution_count": 15,
   "metadata": {},
   "outputs": [],
   "source": [
    "btc_account = priv_key_to_account(BTCTEST, 'cW1aCxcauj29k7GwFBjTdKJwRJMiYJd6sYgoRMdeaAdkbYs12hT5')"
   ]
  },
  {
   "cell_type": "code",
   "execution_count": 64,
   "metadata": {},
   "outputs": [],
   "source": [
    "def create_tx(coin, account, to, amount):\n",
    "    \n",
    "    if coin == 'eth':\n",
    "        \n",
    "        gasEstimate = w3.eth.estimateGas({'from': account.address, \n",
    "                       'to': to, 'value': amount})\n",
    "        \n",
    "        transaction = {'nonce': w3.eth.getTransactionCount(account.address), \n",
    "                       'gasPrice': w3.eth.gasPrice, \n",
    "                       'gas': gasEstimate,\n",
    "                       'to':to, \n",
    "                       'from': account.address, \n",
    "                       'value':amount}\n",
    "        \n",
    "        return transaction\n",
    "        \n",
    "    elif coin == \"btc-test\":\n",
    "        \n",
    "        transaction = bit.PrivateKeyTestnet.prepare_transaction(account.address, [(to, amount, BTC)])\n",
    "        \n",
    "        return transaction"
   ]
  },
  {
   "cell_type": "code",
   "execution_count": 56,
   "metadata": {},
   "outputs": [],
   "source": [
    "to = '0x1F0dD3565bbC9D69d5656903782577525Bc48B6B'"
   ]
  },
  {
   "cell_type": "code",
   "execution_count": 58,
   "metadata": {},
   "outputs": [],
   "source": [
    "to_btc = 'mjQedPF8y2hJtGNwC6Q7iTvqm2uJfzfdMD'"
   ]
  },
  {
   "cell_type": "code",
   "execution_count": 57,
   "metadata": {},
   "outputs": [
    {
     "data": {
      "text/plain": [
       "{'nonce': 0,\n",
       " 'gasPrice': 20000000000,\n",
       " 'gas': 21000,\n",
       " 'to': '0x1F0dD3565bbC9D69d5656903782577525Bc48B6B',\n",
       " 'from': '0xF7b703e1406D099be75FA815cCeb3c01dDd133f4',\n",
       " 'value': 100}"
      ]
     },
     "execution_count": 57,
     "metadata": {},
     "output_type": "execute_result"
    }
   ],
   "source": [
    "create_tx(ETH, eth_account, to, 100)"
   ]
  },
  {
   "cell_type": "code",
   "execution_count": null,
   "metadata": {},
   "outputs": [],
   "source": [
    "create_tx(BTCTEST, btc_account, to_btc, 2)"
   ]
  },
  {
   "cell_type": "code",
   "execution_count": 38,
   "metadata": {},
   "outputs": [
    {
     "data": {
      "text/plain": [
       "'0xF7b703e1406D099be75FA815cCeb3c01dDd133f4'"
      ]
     },
     "execution_count": 38,
     "metadata": {},
     "output_type": "execute_result"
    }
   ],
   "source": [
    "eth_account.address"
   ]
  },
  {
   "cell_type": "code",
   "execution_count": 42,
   "metadata": {},
   "outputs": [],
   "source": [
    "gasestimate = w3.eth.estimateGas({'from': eth_account.address, \n",
    "                       'to': eth_account.address, 'value': 100})"
   ]
  },
  {
   "cell_type": "code",
   "execution_count": 43,
   "metadata": {},
   "outputs": [],
   "source": [
    "transaction = {'nonce': w3.eth.getTransactionCount(eth_account.address), \n",
    "                       'gasPrice': w3.eth.gasPrice, \n",
    "                       'gas': gasestimate,\n",
    "                       'to': to, \n",
    "                       'from': eth_account.address, \n",
    "                       'value':amount}"
   ]
  },
  {
   "cell_type": "code",
   "execution_count": 44,
   "metadata": {},
   "outputs": [
    {
     "data": {
      "text/plain": [
       "{'nonce': 0,\n",
       " 'gasPrice': 20000000000,\n",
       " 'gas': 21000,\n",
       " 'to': '0x1F0dD3565bbC9D69d5656903782577525Bc48B6B',\n",
       " 'from': '0xF7b703e1406D099be75FA815cCeb3c01dDd133f4',\n",
       " 'value': 100}"
      ]
     },
     "execution_count": 44,
     "metadata": {},
     "output_type": "execute_result"
    }
   ],
   "source": [
    "transaction"
   ]
  }
 ],
 "metadata": {
  "kernelspec": {
   "display_name": "Python [conda env:pyvizenv] *",
   "language": "python",
   "name": "conda-env-pyvizenv-py"
  },
  "language_info": {
   "codemirror_mode": {
    "name": "ipython",
    "version": 3
   },
   "file_extension": ".py",
   "mimetype": "text/x-python",
   "name": "python",
   "nbconvert_exporter": "python",
   "pygments_lexer": "ipython3",
   "version": "3.7.7"
  }
 },
 "nbformat": 4,
 "nbformat_minor": 4
}
